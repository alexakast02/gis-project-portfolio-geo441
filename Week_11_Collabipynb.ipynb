{
  "nbformat": 4,
  "nbformat_minor": 0,
  "metadata": {
    "colab": {
      "provenance": [],
      "toc_visible": true,
      "include_colab_link": true
    },
    "kernelspec": {
      "name": "python3",
      "display_name": "Python 3"
    },
    "language_info": {
      "name": "python"
    }
  },
  "cells": [
    {
      "cell_type": "markdown",
      "metadata": {
        "id": "view-in-github",
        "colab_type": "text"
      },
      "source": [
        "<a href=\"https://colab.research.google.com/github/alexakast02/gis-project-portfolio-geo441/blob/main/Week_11_Collabipynb.ipynb\" target=\"_parent\"><img src=\"https://colab.research.google.com/assets/colab-badge.svg\" alt=\"Open In Colab\"/></a>"
      ]
    },
    {
      "cell_type": "markdown",
      "source": [
        "## **GEO 441B/541B Week 11 Assignment"
      ],
      "metadata": {
        "id": "C0ymCPR5aSHN"
      }
    },
    {
      "cell_type": "markdown",
      "source": [
        "Created by Alexa Kast\n",
        "\n",
        "11/6/2024"
      ],
      "metadata": {
        "id": "Pt_OREXFPvkr"
      }
    },
    {
      "cell_type": "markdown",
      "source": [
        "### **Creating a 2.5D Map**\n",
        "\n",
        "**Overview**\n",
        "* Create an arcgis pro project for this assignment\n",
        "* Add extrusion for 2D builind footprint polygon in a local scene\n",
        "* Convert to a 3D feature and edit to change texture using the photos provided\n",
        "\n",
        "**Information on Historical Building**\n",
        "\n",
        "| buildings | building 4 | building 5 | building 6 |\n",
        "| --------- |----------- | ---------- | ---------- |\n",
        "| block number | 198 | 198 | 198 |\n",
        "| lot number | 4 | 5 | 6 |\n",
        "| building height | 14 | 14 | 35 |\n",
        "| floors | 1 | 1 | 3 |\n",
        "\n",
        "\n",
        "\n",
        "**Map**\n",
        "\n",
        "   ![Map](https://drive.google.com/uc?export=view&id=16GW8hogVnE9ADQ-WZmilzaY8PtgXVnPz)"
      ],
      "metadata": {
        "id": "WVs4J1jQbESU"
      }
    }
  ]
}