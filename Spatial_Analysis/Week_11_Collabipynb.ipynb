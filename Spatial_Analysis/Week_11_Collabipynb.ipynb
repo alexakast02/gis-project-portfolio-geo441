{
  "nbformat": 4,
  "nbformat_minor": 0,
  "metadata": {
    "colab": {
      "provenance": [],
      "toc_visible": true,
      "include_colab_link": true
    },
    "kernelspec": {
      "name": "python3",
      "display_name": "Python 3"
    },
    "language_info": {
      "name": "python"
    }
  },
  "cells": [
    {
      "cell_type": "markdown",
      "metadata": {
        "id": "view-in-github",
        "colab_type": "text"
      },
      "source": [
        "<a href=\"https://colab.research.google.com/github/alexakast02/gis-project-portfolio-geo441/blob/main/Spatial_Analysis/Week_11_Collabipynb.ipynb\" target=\"_parent\"><img src=\"https://colab.research.google.com/assets/colab-badge.svg\" alt=\"Open In Colab\"/></a>"
      ]
    },
    {
      "cell_type": "markdown",
      "source": [
        "## **GEO 441B/541B Week 11 Assignment"
      ],
      "metadata": {
        "id": "C0ymCPR5aSHN"
      }
    },
    {
      "cell_type": "markdown",
      "source": [
        "Created by Alexa Kast\n",
        "\n",
        "11/6/2024"
      ],
      "metadata": {
        "id": "Pt_OREXFPvkr"
      }
    },
    {
      "cell_type": "markdown",
      "source": [
        "### **Creating a 2.5D Map**\n",
        "\n",
        "**Overview**\n",
        "* Create an arcgis pro project for this assignment\n",
        "* Add extrusion for 2D builind footprint polygon in a local scene\n",
        "* Convert to a 3D feature and edit to change texture using the photos provided\n",
        "\n",
        "\n",
        "\n",
        "**Information on Historical Building**\n",
        "* Block number: 198\n",
        "* Lot number: 4,5,6\n",
        "* Building Number: 4,5,6\n",
        "* Height in Feet:\n",
        "  * building 6: 35ft\n",
        "  * building 5: 14 ft\n",
        "  * building 4: 14 ft\n",
        "* building floors:\n",
        "  * building 6: 3\n",
        "  * building 5: 1\n",
        "  * building 4: 1\n",
        "**Map**\n",
        "\n",
        "   ![Map](https://drive.google.com/uc?export=view&id=1cMsA-vLVbYSNpVY21WZ04rEwGGYT3I6r)"
      ],
      "metadata": {
        "id": "WVs4J1jQbESU"
      }
    }
  ]
}